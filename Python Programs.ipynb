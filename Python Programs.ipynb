{
 "cells": [
  {
   "cell_type": "markdown",
   "metadata": {},
   "source": [
    "# 1. Write a function that inputs a number and prints the multiplication table of that number"
   ]
  },
  {
   "cell_type": "code",
   "execution_count": 1,
   "metadata": {},
   "outputs": [
    {
     "name": "stdout",
     "output_type": "stream",
     "text": [
      "Enter the number 5\n",
      "\n",
      "Multiplication table of 5\n",
      "5 * 1 =  5\n",
      "5 * 2 =  10\n",
      "5 * 3 =  15\n",
      "5 * 4 =  20\n",
      "5 * 5 =  25\n",
      "5 * 6 =  30\n",
      "5 * 7 =  35\n",
      "5 * 8 =  40\n",
      "5 * 9 =  45\n",
      "5 * 10 =  50\n"
     ]
    }
   ],
   "source": [
    "def DisplayTable(num):   \n",
    "    print(\"\\nMultiplication table of\", num)\n",
    "    for i in range(1, 11):\n",
    "        x = i * int(num)\n",
    "        print(num, \"*\", i, \"= \", x)\n",
    "\n",
    "a = input(\"Enter the number \")\n",
    "DisplayTable(a)"
   ]
  },
  {
   "cell_type": "markdown",
   "metadata": {},
   "source": [
    "# 2. Write a program to print twin primes less than 1000. If two consecutive odd numbers are both prime then they are known as twin primes"
   ]
  },
  {
   "cell_type": "code",
   "execution_count": 20,
   "metadata": {},
   "outputs": [
    {
     "name": "stdout",
     "output_type": "stream",
     "text": [
      "( 3 , 5 )\n",
      "( 5 , 7 )\n",
      "( 11 , 13 )\n",
      "( 17 , 19 )\n",
      "( 29 , 31 )\n",
      "( 41 , 43 )\n",
      "( 59 , 61 )\n",
      "( 71 , 73 )\n",
      "( 101 , 103 )\n",
      "( 107 , 109 )\n",
      "( 137 , 139 )\n",
      "( 149 , 151 )\n",
      "( 179 , 181 )\n",
      "( 191 , 193 )\n",
      "( 197 , 199 )\n",
      "( 227 , 229 )\n",
      "( 239 , 241 )\n",
      "( 269 , 271 )\n",
      "( 281 , 283 )\n",
      "( 311 , 313 )\n",
      "( 347 , 349 )\n",
      "( 419 , 421 )\n",
      "( 431 , 433 )\n",
      "( 461 , 463 )\n",
      "( 521 , 523 )\n",
      "( 569 , 571 )\n",
      "( 599 , 601 )\n",
      "( 617 , 619 )\n",
      "( 641 , 643 )\n",
      "( 659 , 661 )\n",
      "( 809 , 811 )\n",
      "( 821 , 823 )\n",
      "( 827 , 829 )\n",
      "( 857 , 859 )\n",
      "( 881 , 883 )\n"
     ]
    }
   ],
   "source": [
    "def printTwinPrime(n): \n",
    "      \n",
    "    # Create a boolean array \"prime[0..n]\"  \n",
    "    # and initialize all entries it as true. A value in prime[i] will \n",
    "    # finally be false if i is Not a prime, else true. \n",
    "    prime = [True for i in range(n + 2)] \n",
    "    p = 2\n",
    "      \n",
    "    while (p * p <= n + 1): \n",
    "          \n",
    "        # If prime[p] is not changed,  \n",
    "        # then it is a prime \n",
    "        if (prime[p] == True): \n",
    "              \n",
    "            # Update all multiples of p \n",
    "            for i in range(p * 2, n + 2, p): \n",
    "                prime[i] = False\n",
    "        p += 1\n",
    "      \n",
    "    # check twin prime numbers \n",
    "    # display the twin prime numbers \n",
    "    for p in range(2, n-1): \n",
    "        if prime[p] and prime[p + 2]: \n",
    "            print(\"(\",p,\",\", (p + 2), \")\")    \n",
    "\n",
    "\n",
    "# Calling the function\n",
    "printTwinPrime(1000) "
   ]
  },
  {
   "cell_type": "markdown",
   "metadata": {},
   "source": [
    "# 3. Write a program to find out the prime factors of a number. \n",
    "Example: prime factors of 56 - 2, 2, 2, 7"
   ]
  },
  {
   "cell_type": "code",
   "execution_count": 28,
   "metadata": {},
   "outputs": [
    {
     "name": "stdout",
     "output_type": "stream",
     "text": [
      "Enter an integer:56\n",
      "Factors are:\n",
      "2\n",
      "7\n"
     ]
    }
   ],
   "source": [
    "n=int(input(\"Enter an integer:\"))\n",
    "print(\"Factors are:\")\n",
    "i=1\n",
    "while(i<=n):\n",
    "    k=0\n",
    "    if(n%i==0):\n",
    "        j=1\n",
    "        while(j<=i):\n",
    "            if(i%j==0):\n",
    "                k=k+1\n",
    "            j=j+1\n",
    "        if(k==2):\n",
    "            print(i)\n",
    "    i=i+1"
   ]
  },
  {
   "cell_type": "markdown",
   "metadata": {},
   "source": [
    "# 5. Write a function that converts a decimal number to binary number"
   ]
  },
  {
   "cell_type": "code",
   "execution_count": 6,
   "metadata": {},
   "outputs": [
    {
     "name": "stdout",
     "output_type": "stream",
     "text": [
      "Enter the decimal number9\n",
      "N: 9\n",
      "N: 4\n",
      "N: 2\n",
      "1 0 0 1 "
     ]
    }
   ],
   "source": [
    "# Function to print binary number for the input decimal using recursion  \n",
    "def decimalToBinary(n):  \n",
    "    if(n > 1):  \n",
    "        # (discard remainder)  \n",
    "        print(\"N:\", n)\n",
    "        decimalToBinary(n//2)  \n",
    "      \n",
    "    print(n%2, end=' ') \n",
    "      \n",
    "n = int(input(\"Enter the decimal number\"))\n",
    "decimalToBinary(n)"
   ]
  },
  {
   "cell_type": "markdown",
   "metadata": {},
   "source": [
    "# 7. Write a function prodDigits() that inputs a number and returns the product of digits of that number."
   ]
  },
  {
   "cell_type": "code",
   "execution_count": 7,
   "metadata": {},
   "outputs": [
    {
     "name": "stdout",
     "output_type": "stream",
     "text": [
      "Enter the number 45\n",
      "i: 4\n",
      "i: 5\n",
      "20\n"
     ]
    }
   ],
   "source": [
    "def prodDigits(num):\n",
    "    product = 1\n",
    "    try:\n",
    "        for i in num:\n",
    "            print(\"i:\",i)\n",
    "            product = product * int(i)\n",
    "        print(product)\n",
    "    except:\n",
    "        print(\"Exception\")\n",
    "\n",
    "num = input(\"Enter the number \")\n",
    "prodDigits(num)"
   ]
  },
  {
   "cell_type": "markdown",
   "metadata": {},
   "source": [
    "# 9. Write a function sumPdivisors() that finds the sum of proper divisors of a number. Proper divisors of a number are those numbers by which the number is divisible, except the number itself. For example proper divisors of 36 are 1, 2, 3, 4, 6, 9, 18"
   ]
  },
  {
   "cell_type": "code",
   "execution_count": 26,
   "metadata": {},
   "outputs": [
    {
     "name": "stdout",
     "output_type": "stream",
     "text": [
      "Enter the number 28\n",
      "1 2 4 7 14 \n",
      "Sum: 28\n",
      "Perfect Number\n"
     ]
    }
   ],
   "source": [
    "def sumPdivisors(num):\n",
    "        sum=0\n",
    "        for i in range(1,num):\n",
    "            if(num%i == 0):\n",
    "                print(i, end=' ')\n",
    "                sum = sum+i\n",
    "        print(\"\\nSum:\",sum)\n",
    "        if(sum == num):\n",
    "            print(\"Perfect Number\")\n",
    "    \n",
    "num = int(input(\"Enter the number \"))\n",
    "sumPdivisors(num)"
   ]
  },
  {
   "cell_type": "markdown",
   "metadata": {},
   "source": [
    "# 10. A number is called perfect if the sum of proper divisors of that number is equal to the number. For example 28 is perfect number, since 1+2+4+7+14=28. Write a program to print all the perfect numbers in a given range"
   ]
  },
  {
   "cell_type": "code",
   "execution_count": 51,
   "metadata": {},
   "outputs": [
    {
     "name": "stdout",
     "output_type": "stream",
     "text": [
      "Enter the number 1000\n",
      "6  is a perfect number\n",
      "28  is a perfect number\n",
      "496  is a perfect number\n"
     ]
    }
   ],
   "source": [
    "def perfectNumber(num):\n",
    "    sum=0\n",
    "    for i in range(1,num):\n",
    "        if(num%i == 0):\n",
    "            sum += i\n",
    "    return (True if sum == num else False) \n",
    "\n",
    "num = int(input(\"Enter the number \"))\n",
    "for n in range (1,num): \n",
    "    if perfectNumber(n): \n",
    "        print(n , \" is a perfect number\") "
   ]
  },
  {
   "cell_type": "markdown",
   "metadata": {},
   "source": [
    "# 12. Write a program which can filter odd numbers in a list by using filter function"
   ]
  },
  {
   "cell_type": "code",
   "execution_count": 9,
   "metadata": {},
   "outputs": [
    {
     "name": "stdout",
     "output_type": "stream",
     "text": [
      "[1, 3, 5, 13, 15]\n"
     ]
    }
   ],
   "source": [
    "# a list contains both even and odd numbers.  \n",
    "seq = [0, 1, 2, 3, 5, 8, 13,15] \n",
    "\n",
    "# result contains odd numbers of the list \n",
    "result = list(filter(lambda x: x % 2 != 0, seq))\n",
    "print(result)\n",
    "\n",
    "# lstofNum = range(-10,15)\n",
    "\n",
    "# def OddNumber(x):\n",
    "#     if x%2 != 0:\n",
    "#         return True\n",
    "\n",
    "# adults = list(filter(OddNumber, lstofNum))\n",
    "# print(adults)"
   ]
  },
  {
   "cell_type": "markdown",
   "metadata": {},
   "source": [
    "# 13. Write a program which can map() to make a list whose elements are cube of elements in a given list"
   ]
  },
  {
   "cell_type": "code",
   "execution_count": 87,
   "metadata": {},
   "outputs": [
    {
     "name": "stdout",
     "output_type": "stream",
     "text": [
      "[1, 8, 64, 125, 216, 343]\n"
     ]
    }
   ],
   "source": [
    "def Cube(num):\n",
    "    return num ** 3\n",
    "\n",
    "data = [1,2,4,5,6,7]\n",
    "#result = list(map(Cube,data))\n",
    "result = list(map(lambda x: x **3,data))\n",
    "print(result)"
   ]
  },
  {
   "cell_type": "markdown",
   "metadata": {},
   "source": [
    "# 14. Write a program which can map() and filter() to make a list whose elements are cube of even number in a given list"
   ]
  },
  {
   "cell_type": "code",
   "execution_count": 10,
   "metadata": {},
   "outputs": [
    {
     "name": "stdout",
     "output_type": "stream",
     "text": [
      "[8, 64, 216]\n"
     ]
    }
   ],
   "source": [
    "data = [1,2,4,5,6]\n",
    "result = list(filter(lambda x: x is not None,map(lambda x: x**3 if x%2==0 else None, data)))\n",
    "print(result)"
   ]
  }
 ],
 "metadata": {
  "kernelspec": {
   "display_name": "Python 3",
   "language": "python",
   "name": "python3"
  },
  "language_info": {
   "codemirror_mode": {
    "name": "ipython",
    "version": 3
   },
   "file_extension": ".py",
   "mimetype": "text/x-python",
   "name": "python",
   "nbconvert_exporter": "python",
   "pygments_lexer": "ipython3",
   "version": "3.7.0"
  }
 },
 "nbformat": 4,
 "nbformat_minor": 2
}
